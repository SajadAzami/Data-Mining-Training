{
 "cells": [
  {
   "cell_type": "code",
   "execution_count": 1,
   "metadata": {
    "collapsed": true
   },
   "outputs": [
    {
     "data": {
      "image/png": "[encoded data removed]",
      "text/plain": [
       "<matplotlib.figure.Figure at 0x7f7922c16278>"
      ]
     },
     "metadata": {},
     "output_type": "display_data"
    },
    {
     "name": "stdout",
     "output_type": "stream",
     "text": [
      "<class 'pandas.core.frame.DataFrame'>\nRangeIndex: 691 entries, 0 to 690\nData columns (total 7 columns):\nPclass      691 non-null int64\nSex         691 non-null int64\nAge         691 non-null int64\nSibSp       691 non-null int64\nParch       691 non-null int64\nFare        691 non-null int64\nEmbarked    691 non-null int64\ndtypes: int64(7)\nmemory usage: 37.9 KB\nNone\n<class 'pandas.core.frame.DataFrame'>\nRangeIndex: 200 entries, 691 to 890\nData columns (total 7 columns):\nPclass      200 non-null int64\nSex         200 non-null int64\nAge         200 non-null int64\nSibSp       200 non-null int64\nParch       200 non-null int64\nFare        200 non-null int64\nEmbarked    200 non-null int64\ndtypes: int64(7)\nmemory usage: 11.0 KB\nNone\n"
     ]
    }
   ],
   "source": [
    "\"\"\"Kaggle_Titanic, 2/22/17, Sajad Azami\"\"\"\n",
    "\n",
    "import matplotlib.pyplot as plt\n",
    "import pandas as pd\n",
    "import seaborn as sns\n",
    "sns.set_style('white')\n",
    "__author__ = 'sajjadaazami@gmail.com (Sajad Azami)'\n",
    "\n",
    "# Loading dataset\n",
    "train_data_set = pd.read_csv('./data_titanic/train.csv', index_col=False)\n",
    "test_data_set = pd.read_csv('./data_titanic/test.csv', index_col=False)\n",
    "\n",
    "# Filling missing values\n",
    "train_data_set['Age'] = train_data_set['Age'].fillna(train_data_set['Age'].median())\n",
    "test_data_set['Age'] = test_data_set['Age'].fillna(test_data_set['Age'].median())\n",
    "train_data_set[\"Fare\"] = train_data_set[\"Fare\"].fillna(train_data_set[\"Fare\"].median())\n",
    "test_data_set[\"Fare\"] = test_data_set[\"Fare\"].fillna(test_data_set[\"Fare\"].median())\n",
    "train_data_set[\"Embarked\"] = train_data_set[\"Embarked\"].fillna(\"S\")\n",
    "test_data_set[\"Embarked\"] = test_data_set[\"Embarked\"].fillna(\"S\")\n",
    "\n",
    "# Categorical to numerical\n",
    "# Convert the Embarked classes to integer form\n",
    "train_data_set.loc[train_data_set[\"Embarked\"] == \"S\", \"Embarked\"] = 0\n",
    "train_data_set.loc[train_data_set[\"Embarked\"] == \"C\", \"Embarked\"] = 1\n",
    "train_data_set.loc[train_data_set[\"Embarked\"] == \"Q\", \"Embarked\"] = 2\n",
    "test_data_set.loc[test_data_set[\"Embarked\"] == \"S\", \"Embarked\"] = 0\n",
    "test_data_set.loc[test_data_set[\"Embarked\"] == \"C\", \"Embarked\"] = 1\n",
    "test_data_set.loc[test_data_set[\"Embarked\"] == \"Q\", \"Embarked\"] = 2\n",
    "# Convert the male and female groups to integer form\n",
    "train_data_set.loc[train_data_set[\"Sex\"] == \"male\", \"Sex\"] = 0\n",
    "train_data_set.loc[train_data_set[\"Sex\"] == \"female\", \"Sex\"] = 1\n",
    "test_data_set.loc[test_data_set[\"Sex\"] == \"male\", \"Sex\"] = 0\n",
    "test_data_set.loc[test_data_set[\"Sex\"] == \"female\", \"Sex\"] = 1\n",
    "\n",
    "# convert from float to int\n",
    "train_data_set['Fare'] = train_data_set['Fare'].astype(int)\n",
    "test_data_set['Fare'] = test_data_set['Fare'].astype(int)\n",
    "train_data_set['Age'] = train_data_set['Age'].astype(int)\n",
    "test_data_set['Age'] = test_data_set['Age'].astype(int)\n",
    "train_data_set['Embarked'] = train_data_set['Embarked'].astype(int)\n",
    "test_data_set['Embarked'] = test_data_set['Embarked'].astype(int)\n",
    "train_data_set['Sex'] = train_data_set['Sex'].astype(int)\n",
    "test_data_set['Sex'] = test_data_set['Sex'].astype(int)\n",
    "\n",
    "\n",
    "# Drop unnecessary columns, these columns won't be useful in analysis and prediction\n",
    "train_data_set = train_data_set.drop(['PassengerId', 'Name', 'Ticket', 'Cabin'], axis=1)\n",
    "test_data_set_ids = test_data_set['PassengerId']\n",
    "test_data_set = test_data_set.drop(['PassengerId', 'Name', 'Ticket', 'Cabin'], axis=1)\n",
    "\n",
    "# Peaks for survived/not survived passengers by their age\n",
    "facet = sns.FacetGrid(train_data_set, hue=\"Survived\", aspect=4)\n",
    "facet.map(sns.kdeplot, 'Age', shade=True)\n",
    "facet.set(xlim=(0, train_data_set['Age'].max()))\n",
    "facet.add_legend()\n",
    "plt.show()\n",
    "\n",
    "# Split train and test\n",
    "train_Y = train_data_set['Survived'].ix[0:690]\n",
    "train_X = train_data_set.drop('Survived', axis=1).ix[0:690]\n",
    "\n",
    "test_Y = train_data_set['Survived'].ix[691:]\n",
    "test_X = train_data_set.drop('Survived', axis=1).ix[691:]\n",
    "\n",
    "print(train_X.info())\n",
    "print(test_X.info())"
   ]
  },
  {
   "cell_type": "code",
   "execution_count": 6,
   "metadata": {},
   "outputs": [
    {
     "name": "stdout",
     "output_type": "stream",
     "text": [
      "LogReg  0.175\n"
     ]
    },
    {
     "name": "stdout",
     "output_type": "stream",
     "text": [
      "RF  0.155\nMLP  0.205\n"
     ]
    }
   ],
   "source": [
    "from sklearn.ensemble import RandomForestClassifier\n",
    "from sklearn.linear_model import LogisticRegression\n",
    "from sklearn.metrics import mean_squared_error\n",
    "\n",
    "# Logistic Regression model\n",
    "log_reg = LogisticRegression()\n",
    "log_reg.fit(train_X, train_Y)\n",
    "print('LogReg ', mean_squared_error(test_Y, log_reg.predict(test_X)))\n",
    "\n",
    "# Random Forest model\n",
    "forest = RandomForestClassifier(n_estimators=240,\n",
    "                                max_depth=7,\n",
    "                                max_features='sqrt')\n",
    "\n",
    "forest.fit(train_X, train_Y)\n",
    "print('RF ', mean_squared_error(test_Y, forest.predict(test_X)))\n",
    "\n",
    "from sklearn.neural_network import MLPClassifier\n",
    "\n",
    "mlp_clf = MLPClassifier(solver='lbfgs', alpha=1e-5,\n",
    "                        hidden_layer_sizes=(5, 2), random_state=1)\n",
    "\n",
    "mlp_clf.fit(train_X, train_Y)\n",
    "print('MLP ', mean_squared_error(test_Y, mlp_clf.predict(test_X)))"
   ]
  },
  {
   "cell_type": "code",
   "execution_count": 11,
   "metadata": {},
   "outputs": [
    {
     "name": "stdout",
     "output_type": "stream",
     "text": [
      "Ensemble  0.145\n"
     ]
    }
   ],
   "source": [
    "from sklearn.ensemble import VotingClassifier\n",
    "\n",
    "eclf3 = VotingClassifier(estimators=[\n",
    "    ('nn', mlp_clf), ('lr', log_reg), ('rf', forest)],\n",
    "    voting='soft', weights=[1, 1, 2])\n",
    "eclf3 = eclf3.fit(train_X, train_Y)\n",
    "predictions = eclf3.predict(test_X)\n",
    "print('Ensemble ', mean_squared_error(test_Y, predictions))"
   ]
  }
 ],
 "metadata": {
  "kernelspec": {
   "display_name": "Python 2",
   "language": "python",
   "name": "python2"
  },
  "language_info": {
   "codemirror_mode": {
    "name": "ipython",
    "version": 2.0
   },
   "file_extension": ".py",
   "mimetype": "text/x-python",
   "name": "python",
   "nbconvert_exporter": "python",
   "pygments_lexer": "ipython2",
   "version": "2.7.6"
  }
 },
 "nbformat": 4,
 "nbformat_minor": 0
}