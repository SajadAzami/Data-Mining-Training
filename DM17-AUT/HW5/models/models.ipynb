{
 "cells": [
  {
   "cell_type": "code",
   "execution_count": 61,
   "metadata": {
    "collapsed": false
   },
   "outputs": [
    {
     "name": "stdout",
     "output_type": "stream",
     "text": [
      "904\n0.966294298408\n"
     ]
    }
   ],
   "source": [
    "import pandas as pd\n",
    "from preprocessing.preprocessing import pre_process\n",
    "\n",
    "data_train_X = pd.read_csv('./data_fraud/X_train.csv')\n",
    "data_train_Y = pd.read_csv('./data_fraud/Y_train.csv')\n",
    "\n",
    "data_train_X, data_train_Y = pre_process(data_train_X, data_train_Y)\n",
    "\n",
    "train_X = data_train_X[:33333]\n",
    "train_Y = data_train_Y[:33333]\n",
    "\n",
    "val_X = data_train_X[33333:66666]\n",
    "val_Y = data_train_Y[33333:66666]\n",
    "\n",
    "test_X = data_train_X[66666:]\n",
    "test_Y = data_train_Y[66666:]"
   ]
  },
  {
   "cell_type": "code",
   "execution_count": 28,
   "metadata": {
    "collapsed": false
   },
   "outputs": [
    {
     "name": "stderr",
     "output_type": "stream",
     "text": [
      "/home/dsp/anaconda3/lib/python3.5/site-packages/ipykernel_launcher.py:8: DataConversionWarning: A column-vector y was passed when a 1d array was expected. Please change the shape of y to (n_samples,), for example using ravel().\n  \n"
     ]
    },
    {
     "name": "stdout",
     "output_type": "stream",
     "text": [
      "[[32420   111]\n [  521   282]]\nPrecision:  0.717557251908\nRecall:  0.351183063512\nF1-Score:  0.471571906355\n"
     ]
    }
   ],
   "source": [
    "from sklearn.ensemble import RandomForestClassifier\n",
    "from sklearn.metrics import confusion_matrix, precision_score, recall_score, \\\n",
    "    f1_score\n",
    "\n",
    "forest = RandomForestClassifier(n_jobs=-1,\n",
    "                                # class_weight={0: 1000, 1: 1},\n",
    "                                n_estimators=100,\n",
    "                                max_features=None)\n",
    "forest.fit(train_X, train_Y)\n",
    "predictions = forest.predict(test_X)\n",
    "cm = confusion_matrix(test_Y, predictions)\n",
    "print(cm)\n",
    "print(\"Precision: \", precision_score(test_Y, predictions))\n",
    "print(\"Recall: \", recall_score(test_Y, predictions))\n",
    "print(\"F1-Score: \", f1_score(test_Y, predictions))"
   ]
  },
  {
   "cell_type": "code",
   "execution_count": 62,
   "metadata": {
    "collapsed": true
   },
   "outputs": [
    {
     "name": "stderr",
     "output_type": "stream",
     "text": [
      "/home/dsp/anaconda3/lib/python3.5/site-packages/sklearn/utils/validation.py:526: DataConversionWarning: A column-vector y was passed when a 1d array was expected. Please change the shape of y to (n_samples, ), for example using ravel().\n  y = column_or_1d(y, warn=True)\n"
     ]
    }
   ],
   "source": [
    "# Re-Sampling\n",
    "from imblearn.over_sampling import SMOTE\n",
    "\n",
    "sm = SMOTE(ratio=1.0, random_state=42)\n",
    "X_res, Y_res = sm.fit_sample(pd.concat([train_X, val_X], axis=0),\n",
    "                             pd.concat([train_Y, val_Y], axis=0))"
   ]
  },
  {
   "cell_type": "code",
   "execution_count": 39,
   "metadata": {},
   "outputs": [
    {
     "name": "stdout",
     "output_type": "stream",
     "text": [
      "[[32252   279]\n [  473   330]]\nPrecision:  0.541871921182\nRecall:  0.41095890411\nF1-Score:  0.467422096317\n"
     ]
    }
   ],
   "source": [
    "from sklearn.ensemble import RandomForestClassifier\n",
    "from sklearn.metrics import confusion_matrix, precision_score, recall_score, \\\n",
    "    f1_score\n",
    "\n",
    "forest = RandomForestClassifier(n_jobs=-1,\n",
    "                                n_estimators=30,\n",
    "                                max_features=None)\n",
    "forest.fit(X_res, Y_res)\n",
    "predictions = forest.predict(test_X)\n",
    "cm = confusion_matrix(test_Y, predictions)\n",
    "print(cm)\n",
    "print(\"Precision: \", precision_score(test_Y, predictions))\n",
    "print(\"Recall: \", recall_score(test_Y, predictions))\n",
    "print(\"F1-Score: \", f1_score(test_Y, predictions))"
   ]
  },
  {
   "cell_type": "code",
   "execution_count": 64,
   "metadata": {
    "collapsed": true
   },
   "outputs": [
    {
     "name": "stdout",
     "output_type": "stream",
     "text": [
      "[[24445  8086]\n [  250   553]]\nPrecision:  0.0640120384304\nRecall:  0.688667496887\nF1-Score:  0.117136199958\n"
     ]
    }
   ],
   "source": [
    "from sklearn.linear_model import LogisticRegression\n",
    "\n",
    "lr = LogisticRegression(C=1e5)\n",
    "h = .02  # step size in the mesh\n",
    "lr.fit(X_res, Y_res)\n",
    "predictions = lr.predict(test_X)\n",
    "cm = confusion_matrix(test_Y, predictions)\n",
    "print(cm)\n",
    "print(\"Precision: \", precision_score(test_Y, predictions))\n",
    "print(\"Recall: \", recall_score(test_Y, predictions))\n",
    "print(\"F1-Score: \", f1_score(test_Y, predictions))"
   ]
  },
  {
   "cell_type": "code",
   "execution_count": 65,
   "metadata": {
    "collapsed": true
   },
   "outputs": [
    {
     "name": "stdout",
     "output_type": "stream",
     "text": [
      "[[28198  4333]\n [  440   363]]\nPrecision:  0.0772998296422\nRecall:  0.452054794521\nF1-Score:  0.132024004364\n"
     ]
    }
   ],
   "source": [
    "from sklearn.naive_bayes import GaussianNB\n",
    "naive_bayes_clf = GaussianNB()\n",
    "naive_bayes_clf.fit(X_res, Y_res)\n",
    "\n",
    "predictions = naive_bayes_clf.predict(test_X)\n",
    "cm = confusion_matrix(test_Y, predictions)\n",
    "print(cm)\n",
    "print(\"Precision: \", precision_score(test_Y, predictions))\n",
    "print(\"Recall: \", recall_score(test_Y, predictions))\n",
    "print(\"F1-Score: \", f1_score(test_Y, predictions))"
   ]
  },
  {
   "cell_type": "code",
   "execution_count": 66,
   "metadata": {},
   "outputs": [
    {
     "name": "stdout",
     "output_type": "stream",
     "text": [
      "[[31789   742]\n [  490   313]]\nPrecision:  0.296682464455\nRecall:  0.389788293898\nF1-Score:  0.336921420883\n"
     ]
    }
   ],
   "source": [
    "from sklearn.tree import DecisionTreeClassifier\n",
    "dt_clf = DecisionTreeClassifier()\n",
    "dt_clf.fit(X_res, Y_res)\n",
    "\n",
    "predictions = dt_clf.predict(test_X)\n",
    "cm = confusion_matrix(test_Y, predictions)\n",
    "print(cm)\n",
    "print(\"Precision: \", precision_score(test_Y, predictions))\n",
    "print(\"Recall: \", recall_score(test_Y, predictions))\n",
    "print(\"F1-Score: \", f1_score(test_Y, predictions))"
   ]
  },
  {
   "cell_type": "code",
   "execution_count": 68,
   "metadata": {},
   "outputs": [
    {
     "name": "stdout",
     "output_type": "stream",
     "text": [
      "[[31789   742]\n [  490   313]]\nPrecision:  0.296682464455\nRecall:  0.389788293898\nF1-Score:  0.336921420883\n"
     ]
    }
   ],
   "source": [
    "from sklearn.neural_network import MLPClassifier\n",
    "\n",
    "mlp_clf = MLPClassifier(solver='lbfgs', alpha=1e-5,\n",
    "                        hidden_layer_sizes=(5, 2), random_state=1)\n",
    "\n",
    "mlp_clf.fit(X_res, Y_res)\n",
    "\n",
    "predictions = dt_clf.predict(test_X)\n",
    "cm = confusion_matrix(test_Y, predictions)\n",
    "print(cm)\n",
    "print(\"Precision: \", precision_score(test_Y, predictions))\n",
    "print(\"Recall: \", recall_score(test_Y, predictions))\n",
    "print(\"F1-Score: \", f1_score(test_Y, predictions))"
   ]
  },
  {
   "cell_type": "code",
   "execution_count": 69,
   "metadata": {},
   "outputs": [
    {
     "name": "stdout",
     "output_type": "stream",
     "text": [
      "[[32093   438]\n [  473   330]]\nPrecision:  0.4296875\nRecall:  0.41095890411\nF1-Score:  0.420114576703\n"
     ]
    }
   ],
   "source": [
    "import numpy as np\n",
    "from sklearn.ensemble import VotingClassifier\n",
    "\n",
    "eclf3 = VotingClassifier(estimators=[\n",
    "    ('nn', mlp_clf), ('dt', dt_clf), ('rf', forest)],\n",
    "    voting='soft', weights=[1, 1, 2])\n",
    "eclf3 = eclf3.fit(X_res, Y_res)\n",
    "predictions = eclf3.predict(test_X)\n",
    "\n",
    "cm = confusion_matrix(test_Y, predictions)\n",
    "print(cm)\n",
    "print(\"Precision: \", precision_score(test_Y, predictions))\n",
    "print(\"Recall: \", recall_score(test_Y, predictions))\n",
    "print(\"F1-Score: \", f1_score(test_Y, predictions))"
   ]
  }
 ],
 "metadata": {
  "kernelspec": {
   "display_name": "Python 2",
   "language": "python",
   "name": "python2"
  },
  "language_info": {
   "codemirror_mode": {
    "name": "ipython",
    "version": 2.0
   },
   "file_extension": ".py",
   "mimetype": "text/x-python",
   "name": "python",
   "nbconvert_exporter": "python",
   "pygments_lexer": "ipython2",
   "version": "2.7.6"
  }
 },
 "nbformat": 4,
 "nbformat_minor": 0
}