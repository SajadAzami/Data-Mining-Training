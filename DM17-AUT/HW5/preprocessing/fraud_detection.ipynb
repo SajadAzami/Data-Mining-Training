{
 "cells": [
  {
   "cell_type": "code",
   "execution_count": 18,
   "metadata": {
    "collapsed": true
   },
   "outputs": [
    {
     "name": "stdout",
     "output_type": "stream",
     "text": [
      "904\n0.966294298408\n"
     ]
    }
   ],
   "source": [
    "import pandas as pd\n",
    "import matplotlib.pyplot as plt\n",
    "import numpy as np\n",
    "import seaborn as sns\n",
    "\n",
    "sns.set_style('dark')\n",
    "\n",
    "data_train_X = pd.read_csv('./data_fraud/X_train.csv')\n",
    "data_train_Y = pd.read_csv('./data_fraud/Y_train.csv')\n",
    "\n",
    "# General process on entire data\n",
    "#######################################################\n",
    "# Filling missing values for feature amount with mean\n",
    "data_train_X['amount'] = data_train_X['amount'].replace(0, np.NaN)\n",
    "data_train_X['amount'].fillna(data_train_X['amount'].mean(), inplace=True)\n",
    "\n",
    "# Dummy zip feature(Dropped for now)\n",
    "print(len(data_train_X['zip'].unique()))\n",
    "data_train_X = data_train_X.drop('zip', axis=1)  # Dropping for now\n",
    "\n",
    "# Dummy state feature\n",
    "data_train_X = pd.concat([data_train_X, pd.get_dummies(data_train_X['state'])], axis=1)\n",
    "data_train_X = data_train_X.drop('state', axis=1)\n",
    "\n",
    "# Feature hour_a and hour_b\n",
    "data_train_X['hour_a'].corr(data_train_X['hour_b'])\n",
    "# plt.scatter(data_train_X['hour_a'], data_train_X['hour_b'])\n",
    "# plt.show()\n",
    "# data_train_X = data_train_X.drop('hour_b', axis=1)\n",
    "\n",
    "# Feature customerAttr_a\n",
    "# data_train_X['customerAttr_a'] = data_train_X['customerAttr_a'] - 1234567890123456\n",
    "data_train_X = data_train_X.drop('customerAttr_a', axis=1)\n",
    "\n",
    "# Feature total\n",
    "print(data_train_X['amount'].corr(data_train_X['total']))\n",
    "data_train_X = data_train_X.drop('total', axis=1)"
   ]
  },
  {
   "cell_type": "code",
   "execution_count": 3,
   "metadata": {},
   "outputs": [
    {
     "name": "stdout",
     "output_type": "stream",
     "text": [
      "Index(['amount', 'hour_a', 'customerAttr_a', 'field_a', 'customerAttr_b',\n       'field_b', 'hour_b', 'flag_a', 'total', 'field_c', 'field_d',\n       'indicator_a', 'indicator_b', 'flag_b', 'flag_c', 'flag_d', 'flag_e',\n       'AE', 'AK', 'AL', 'AP', 'AR', 'AZ', 'CA', 'CO', 'CT', 'DC', 'DE', 'FL',\n       'GA', 'HI', 'IA', 'ID', 'IL', 'IN', 'KS', 'KY', 'LA', 'MA', 'MD', 'ME',\n       'MI', 'MN', 'MO', 'MS', 'MT', 'NC', 'ND', 'NE', 'NH', 'NJ', 'NM', 'NV',\n       'NY', 'OH', 'OK', 'OR', 'PA', 'PR', 'RI', 'SC', 'SD', 'TN', 'TX', 'UT',\n       'VA', 'VT', 'WA', 'WI', 'WV', 'WY'],\n      dtype='object')\n"
     ]
    }
   ],
   "source": [
    ""
   ]
  },
  {
   "cell_type": "code",
   "execution_count": 19,
   "metadata": {
    "collapsed": false
   },
   "outputs": [
    {
     "data": {
      "text/plain": [
       "0.99394898599449033"
      ]
     },
     "execution_count": 19,
     "metadata": {},
     "output_type": "execute_result"
    }
   ],
   "source": [
    "data_train_X['hour_a'].corr(data_train_X['hour_b'])"
   ]
  },
  {
   "cell_type": "code",
   "execution_count": 5,
   "metadata": {
    "collapsed": false
   },
   "outputs": [
    {
     "data": {
      "image/png": "[encoded data removed]",
      "text/plain": [
       "<matplotlib.figure.Figure at 0x7fdb1c1b4780>"
      ]
     },
     "metadata": {},
     "output_type": "display_data"
    }
   ],
   "source": [
    "plt.scatter(data_train_X['hour_a'], data_train_X['hour_b'])\n",
    "plt.show()"
   ]
  },
  {
   "cell_type": "code",
   "execution_count": 6,
   "metadata": {},
   "outputs": [],
   "source": [
    "data_train_X = data_train_X.drop('hour_b', axis=1)"
   ]
  },
  {
   "cell_type": "code",
   "execution_count": 63,
   "metadata": {
    "collapsed": true
   },
   "outputs": [
    {
     "name": "stdout",
     "output_type": "stream",
     "text": [
      "904\n"
     ]
    }
   ],
   "source": [
    "import pandas as pd\n",
    "import matplotlib.pyplot as plt\n",
    "import numpy as np\n",
    "import seaborn as sns\n",
    "\n",
    "sns.set_style('dark')\n",
    "\n",
    "data_train_X = pd.read_csv('./data_fraud/X_train.csv')\n",
    "data_train_Y = pd.read_csv('./data_fraud/Y_train.csv')\n",
    "\n",
    "# General process on entire data\n",
    "#######################################################\n",
    "# Filling missing values for feature amount with mean\n",
    "# data_train_X['amount'] = data_train_X['amount'].replace(0, np.NaN)\n",
    "# data_train_X['amount'].fillna(data_train_X['amount'].mean(), inplace=True)\n",
    "\n",
    "# Dummy zip feature(Dropped for now)\n",
    "print(len(data_train_X['zip'].unique()))\n",
    "data_train_X = data_train_X.drop('zip', axis=1)  # Dropping for now\n",
    "\n",
    "# Dummy state feature\n",
    "data_train_X = pd.concat([data_train_X, pd.get_dummies(data_train_X['state'])], axis=1)\n",
    "data_train_X = data_train_X.drop('state', axis=1)\n",
    "\n",
    "# Feature hour_a and hour_b\n",
    "data_train_X['hour_a'].corr(data_train_X['hour_b'])\n",
    "# plt.scatter(data_train_X['hour_a'], data_train_X['hour_b'])\n",
    "# plt.show()\n",
    "data_train_X = data_train_X.drop('hour_b', axis=1)\n",
    "\n",
    "# Feature customerAttr_a\n",
    "# data_train_X['customerAttr_a'] = data_train_X['customerAttr_a'] - 1234567890123456\n",
    "# data_train_X = data_train_X.drop('customerAttr_a', axis=1)\n",
    "#######################################################\n",
    "\n",
    "# Split train and validation\n",
    "train_X = data_train_X[:70000].copy()\n",
    "train_Y = data_train_Y[:70000].copy()\n",
    "\n",
    "val_X = data_train_X[70000:].copy()\n",
    "val_Y = data_train_Y[70000:].copy()"
   ]
  },
  {
   "cell_type": "code",
   "execution_count": 13,
   "metadata": {
    "collapsed": false
   },
   "outputs": [
    {
     "name": "stdout",
     "output_type": "stream",
     "text": [
      "0        1234567890123456\n1        1234567890123457\n2        1234567890123458\n3        1234567890123459\n4        1234567890123460\n5        1234567890123461\n6        1234567890123462\n7        1234567890123463\n8        1234567890123464\n9        1234567890123465\n10       1234567890123462\n11       1234567890123466\n12       1234567890123467\n13       1234567890123468\n14       1234567890123469\n15       1234567890123470\n16       1234567890123471\n17       1234567890123472\n18       1234567890123473\n19       1234567890123474\n20       1234567890123475\n21       1234567890123476\n22       1234567890123477\n23       1234567890123478\n24       1234567890123479\n25       1234567890123480\n26       1234567890123481\n27       1234567890123482\n28       1234567890123483\n29       1234567890123484\n               ...       \n99970    1234567890197154\n99971    1234567890186251\n99972    1234567890157691\n99973    1234567890197164\n99974    1234567890197127\n99975    1234567890197165\n99976    1234567890157691\n99977    1234567890197166\n99978    1234567890197167\n99979    1234567890197168\n99980    1234567890197169\n99981    1234567890197161\n99982    1234567890197170\n99983    1234567890197171\n99984    1234567890197172\n99985    1234567890197173\n99986    1234567890197174\n99987    1234567890197175\n99988    1234567890137953\n99989    1234567890197176\n99990    1234567890197177\n99991    1234567890197178\n99992    1234567890194145\n99993    1234567890197179\n99994    1234567890197180\n99995    1234567890197181\n99996    1234567890197182\n99997    1234567890196488\n99998    1234567890197183\n99999    1234567890197184\nName: customerAttr_a, dtype: int64\n"
     ]
    }
   ],
   "source": [
    "print(data_train_X['customerAttr_a'])"
   ]
  },
  {
   "cell_type": "code",
   "execution_count": 31,
   "metadata": {},
   "outputs": [
    {
     "data": {
      "text/plain": [
       "1.0"
      ]
     },
     "execution_count": 31,
     "metadata": {},
     "output_type": "execute_result"
    }
   ],
   "source": [
    "data_train_X['amount'].corr(data_train_X['total'])"
   ]
  },
  {
   "cell_type": "code",
   "execution_count": 4,
   "metadata": {},
   "outputs": [
    {
     "name": "stdout",
     "output_type": "stream",
     "text": [
      "Index(['amount', 'hour_a', 'field_a', 'customerAttr_b', 'field_b', 'flag_a',\n       'field_c', 'field_d', 'indicator_a', 'indicator_b', 'flag_b', 'flag_c',\n       'flag_d', 'flag_e', 'AE', 'AK', 'AL', 'AP', 'AR', 'AZ', 'CA', 'CO',\n       'CT', 'DC', 'DE', 'FL', 'GA', 'HI', 'IA', 'ID', 'IL', 'IN', 'KS', 'KY',\n       'LA', 'MA', 'MD', 'ME', 'MI', 'MN', 'MO', 'MS', 'MT', 'NC', 'ND', 'NE',\n       'NH', 'NJ', 'NM', 'NV', 'NY', 'OH', 'OK', 'OR', 'PA', 'PR', 'RI', 'SC',\n       'SD', 'TN', 'TX', 'UT', 'VA', 'VT', 'WA', 'WI', 'WV', 'WY'],\n      dtype='object')\n"
     ]
    }
   ],
   "source": [
    "print(data_train_X.columns)"
   ]
  },
  {
   "cell_type": "code",
   "execution_count": 31,
   "metadata": {
    "collapsed": false
   },
   "outputs": [
    {
     "name": "stdout",
     "output_type": "stream",
     "text": [
      "[1.0, -0.01, -0.0, 0.11, -0.040000000000000001]\n[-0.01, 1.0, 0.44, -0.02, 0.070000000000000007]\n[-0.0, 0.44, 1.0, -0.01, 0.10000000000000001]\n[0.11, -0.02, -0.01, 1.0, -0.01]\n[-0.040000000000000001, 0.070000000000000007, 0.10000000000000001, -0.01, 1.0]\n"
     ]
    }
   ],
   "source": [
    "a = []\n",
    "for i in ['flag_a', 'flag_b', 'flag_c', 'flag_d', 'flag_e']:\n",
    "    temp = []\n",
    "    for j in ['flag_a', 'flag_b', 'flag_c', 'flag_d', 'flag_e']:\n",
    "        temp.append(round(data_train_X[i].corr(data_train_X[j]), 2))\n",
    "    a.append(temp)\n",
    "print(a[0])\n",
    "print(a[1])\n",
    "print(a[2])\n",
    "print(a[3])\n",
    "print(a[4])"
   ]
  },
  {
   "cell_type": "code",
   "execution_count": 32,
   "metadata": {},
   "outputs": [
    {
     "data": {
      "text/plain": [
       "-0.0465392582345645"
      ]
     },
     "execution_count": 32,
     "metadata": {},
     "output_type": "execute_result"
    }
   ],
   "source": [
    "data_train_X['indicator_a'].corr(data_train_X['indicator_b'])"
   ]
  },
  {
   "cell_type": "code",
   "execution_count": 67,
   "metadata": {
    "collapsed": true
   },
   "outputs": [
    {
     "name": "stdout",
     "output_type": "stream",
     "text": [
      "com               68383\nnet               24166\nrr.com             2520\nedu                1352\norg                 970\narmy.mil            218\natt.net             153\ngov                 150\nus                  120\nibm.com              71\nbiz                  69\nk12                  66\nnetcom.com           65\naf.mil               53\nstate                45\nmil                  41\ncc                   39\nca                   31\nnavy                 29\naf                   28\nml.com               28\nzzn.com              22\nuchicago.edu         21\narmy                 21\nfm                   20\ntv                   19\nsprint.com           19\nusmc                 19\nmit.edu              17\nco                   16\n                  ...  \ntreas                 1\nalumnae               1\nno-ip                 1\nmn                    1\nhpu                   1\negenconsulting        1\nmontclair             1\numaryland             1\nst                    1\nalbany                1\ncomm                  1\naorcentaf             1\nattmil                1\ndoc                   1\nmahle                 1\ncity                  1\naaa                   1\nsicily                1\nmoog                  1\ngrenander             1\nkent                  1\nne                    1\ncswnet                1\nbg                    1\nlaw                   1\narsc                  1\ntranscom              1\npacbell               1\nwnyric                1\ndss                   1\nName: customerAttr_b, dtype: int64\n"
     ]
    }
   ],
   "source": [
    "def substring_after(s, delim):\n",
    "    return s.partition(delim)[2].partition('.')[2]\n",
    "\n",
    "\n",
    "print(data_train_X['customerAttr_b'].apply(substring_after, delim='@').\n",
    "      value_counts())"
   ]
  },
  {
   "cell_type": "code",
   "execution_count": 62,
   "metadata": {
    "collapsed": true
   },
   "outputs": [
    {
     "name": "stdout",
     "output_type": "stream",
     "text": [
      "0                   net\n1                   net\n2                   com\n3                   net\n4                   net\n5                   com\n6                   com\n7                   com\n8                   com\n9                   net\n10                  com\n11                  com\n12                  com\n13                  com\n14                  net\n15                  com\n16                  net\n17                  com\n18                  com\n19                  com\n20                  net\n21                  net\n22       washington.edu\n23                  com\n24                  com\n25                  com\n26                  org\n27                  com\n28                  com\n29                  com\n              ...      \n99970               com\n99971               com\n99972               net\n99973               com\n99974               com\n99975               com\n99976               net\n99977               com\n99978               com\n99979               com\n99980               com\n99981               com\n99982               com\n99983               com\n99984               com\n99985               com\n99986               com\n99987               com\n99988               com\n99989               net\n99990               com\n99991               com\n99992               com\n99993               com\n99994               com\n99995               net\n99996               com\n99997               com\n99998               com\n99999               com\nName: customerAttr_b, dtype: object\n"
     ]
    }
   ],
   "source": [
    "print(data_train_X['customerAttr_b'])"
   ]
  },
  {
   "cell_type": "code",
   "execution_count": 68,
   "metadata": {},
   "outputs": [
    {
     "name": "stdout",
     "output_type": "stream",
     "text": [
      "904\n0.966294298408\n"
     ]
    }
   ],
   "source": [
    "import pandas as pd\n",
    "import matplotlib.pyplot as plt\n",
    "import numpy as np\n",
    "import seaborn as sns\n",
    "\n",
    "sns.set_style('dark')\n",
    "\n",
    "data_train_X = pd.read_csv('./data_fraud/X_train.csv')\n",
    "data_train_Y = pd.read_csv('./data_fraud/Y_train.csv')\n",
    "\n",
    "# General process on entire data\n",
    "#######################################################\n",
    "# Filling missing values for feature amount with mean\n",
    "data_train_X['amount'] = data_train_X['amount'].replace(0, np.NaN)\n",
    "data_train_X['amount'].fillna(data_train_X['amount'].mean(), inplace=True)\n",
    "\n",
    "# Dummy zip feature(Dropped for now)\n",
    "# TODO cluster and dummy\n",
    "print(len(data_train_X['zip'].unique()))\n",
    "data_train_X = data_train_X.drop('zip', axis=1)  # Dropping for now\n",
    "\n",
    "# Dummy state feature\n",
    "data_train_X = pd.concat([data_train_X, pd.get_dummies(data_train_X['state'])], axis=1)\n",
    "data_train_X = data_train_X.drop('state', axis=1)\n",
    "\n",
    "# Feature hour_a and hour_b\n",
    "data_train_X['hour_a'].corr(data_train_X['hour_b'])\n",
    "# plt.scatter(data_train_X['hour_a'], data_train_X['hour_b'])\n",
    "# plt.show()\n",
    "data_train_X = data_train_X.drop('hour_b', axis=1)\n",
    "\n",
    "# Feature customerAttr_a\n",
    "# data_train_X['customerAttr_a'] = data_train_X['customerAttr_a'] - 1234567890123456\n",
    "data_train_X = data_train_X.drop('customerAttr_a', axis=1)\n",
    "\n",
    "# Feature total\n",
    "print(data_train_X['amount'].corr(data_train_X['total']))\n",
    "data_train_X = data_train_X.drop('total', axis=1)\n",
    "\n",
    "\n",
    "# Feature customerAttr_b\n",
    "# TODO cluster and dummy\n",
    "def substring_after(s, delim):\n",
    "    return s.partition(delim)[2].partition('.')[2]\n",
    "\n",
    "\n",
    "data_train_X['customerAttr_b'] = data_train_X['customerAttr_b'].apply(substring_after, delim='@')\n",
    "data_train_X = data_train_X.drop('customerAttr_b', axis=1)  # Dropping for now\n",
    "#######################################################\n",
    "\n",
    "# Split train and validation\n",
    "train_X = data_train_X[:70000].copy()\n",
    "train_Y = data_train_Y[:70000].copy()\n",
    "\n",
    "val_X = data_train_X[70000:].copy()\n",
    "val_Y = data_train_Y[70000:].copy()"
   ]
  },
  {
   "cell_type": "code",
   "execution_count": 70,
   "metadata": {
    "collapsed": true
   },
   "outputs": [
    {
     "name": "stdout",
     "output_type": "stream",
     "text": [
      "              amount         hour_a        field_a        field_b  \\\ncount  100000.000000  100000.000000  100000.000000  100000.000000   \nmean       27.499903      14.016050       2.368270       0.405380   \nstd        14.103083       5.415115       0.998768       0.490968   \nmin         9.500000       0.000000       0.000000       0.000000   \n25%        12.950000      11.000000       2.000000       0.000000   \n50%        27.499903      14.000000       3.000000       0.000000   \n75%        38.850000      18.000000       3.000000       1.000000   \nmax        59.950000      23.000000       4.000000       1.000000   \n\n              flag_a        field_c        field_d    indicator_a  \\\ncount  100000.000000  100000.000000  100000.000000  100000.000000   \nmean        0.419710     368.796390      15.026270       0.113370   \nstd         0.493514    4151.204585       6.450308       0.317046   \nmin         0.000000  -26803.000000       6.000000       0.000000   \n25%         0.000000   -2260.000000       9.000000       0.000000   \n50%         0.000000    1093.000000      15.000000       0.000000   \n75%         1.000000    3517.250000      20.000000       0.000000   \nmax         1.000000    8169.000000      44.000000       1.000000   \n\n         indicator_b         flag_b      ...                   SD  \\\ncount  100000.000000  100000.000000      ...        100000.000000   \nmean        0.017850       0.556400      ...             0.001670   \nstd         0.132407       0.496811      ...             0.040832   \nmin         0.000000       0.000000      ...             0.000000   \n25%         0.000000       0.000000      ...             0.000000   \n50%         0.000000       1.000000      ...             0.000000   \n75%         0.000000       1.000000      ...             0.000000   \nmax         1.000000       1.000000      ...             1.000000   \n\n                  TN            TX             UT             VA  \\\ncount  100000.000000  100000.00000  100000.000000  100000.000000   \nmean        0.014840       0.06785       0.006140       0.037790   \nstd         0.120913       0.25149       0.078118       0.190689   \nmin         0.000000       0.00000       0.000000       0.000000   \n25%         0.000000       0.00000       0.000000       0.000000   \n50%         0.000000       0.00000       0.000000       0.000000   \n75%         0.000000       0.00000       0.000000       0.000000   \nmax         1.000000       1.00000       1.000000       1.000000   \n\n                  VT             WA             WI             WV  \\\ncount  100000.000000  100000.000000  100000.000000  100000.000000   \nmean        0.001060       0.025570       0.008660       0.002690   \nstd         0.032541       0.157849       0.092656       0.051796   \nmin         0.000000       0.000000       0.000000       0.000000   \n25%         0.000000       0.000000       0.000000       0.000000   \n50%         0.000000       0.000000       0.000000       0.000000   \n75%         0.000000       0.000000       0.000000       0.000000   \nmax         1.000000       1.000000       1.000000       1.000000   \n\n                  WY  \ncount  100000.000000  \nmean        0.001090  \nstd         0.032997  \nmin         0.000000  \n25%         0.000000  \n50%         0.000000  \n75%         0.000000  \nmax         1.000000  \n\n[8 rows x 67 columns]\n"
     ]
    }
   ],
   "source": [
    ""
   ]
  },
  {
   "cell_type": "code",
   "execution_count": null,
   "metadata": {},
   "outputs": [],
   "source": [
    ""
   ]
  },
  {
   "cell_type": "code",
   "execution_count": null,
   "metadata": {},
   "outputs": [],
   "source": [
    ""
   ]
  }
 ],
 "metadata": {
  "kernelspec": {
   "display_name": "Python 2",
   "language": "python",
   "name": "python2"
  },
  "language_info": {
   "codemirror_mode": {
    "name": "ipython",
    "version": 2.0
   },
   "file_extension": ".py",
   "mimetype": "text/x-python",
   "name": "python",
   "nbconvert_exporter": "python",
   "pygments_lexer": "ipython2",
   "version": "2.7.6"
  }
 },
 "nbformat": 4,
 "nbformat_minor": 0
}