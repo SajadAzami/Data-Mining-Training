{
 "cells": [
  {
   "cell_type": "code",
   "execution_count": 1,
   "metadata": {
    "collapsed": true
   },
   "outputs": [
    {
     "name": "stdout",
     "output_type": "stream",
     "text": [
      "904\n"
     ]
    }
   ],
   "source": [
    "import pandas as pd\n",
    "import matplotlib.pyplot as plt\n",
    "import numpy as np\n",
    "\n",
    "data_train_X = pd.read_csv('./data_fraud/X_train.csv')\n",
    "data_train_Y = pd.read_csv('./data_fraud/Y_train.csv')\n",
    "\n",
    "# General process on entire data\n",
    "#######################################################\n",
    "# Filling missing values for feature amount with mean\n",
    "data_train_X['amount'] = data_train_X['amount'].replace(0, np.NaN)\n",
    "data_train_X['amount'].fillna(data_train_X['amount'].mean(), inplace=True)\n",
    "\n",
    "# Dummy zip feature(Dropped for now)\n",
    "print(len(data_train_X['zip'].unique()))\n",
    "data_train_X = data_train_X.drop('zip', axis=1)  # Dropping for now\n",
    "\n",
    "# Dummy state feature\n",
    "data_train_X = pd.concat([data_train_X, pd.get_dummies(data_train_X['state'])], axis=1)\n",
    "data_train_X = data_train_X.drop('state', axis=1)\n",
    "#######################################################\n",
    "\n",
    "# Split train and validation\n",
    "train_X = data_train_X[:70000].copy()\n",
    "train_Y = data_train_Y[:70000].copy()\n",
    "\n",
    "val_X = data_train_X[70000:].copy()\n",
    "val_Y = data_train_Y[70000:].copy()"
   ]
  },
  {
   "cell_type": "code",
   "execution_count": 3,
   "metadata": {},
   "outputs": [
    {
     "name": "stdout",
     "output_type": "stream",
     "text": [
      "Index(['amount', 'hour_a', 'customerAttr_a', 'field_a', 'customerAttr_b',\n       'field_b', 'hour_b', 'flag_a', 'total', 'field_c', 'field_d',\n       'indicator_a', 'indicator_b', 'flag_b', 'flag_c', 'flag_d', 'flag_e',\n       'AE', 'AK', 'AL', 'AP', 'AR', 'AZ', 'CA', 'CO', 'CT', 'DC', 'DE', 'FL',\n       'GA', 'HI', 'IA', 'ID', 'IL', 'IN', 'KS', 'KY', 'LA', 'MA', 'MD', 'ME',\n       'MI', 'MN', 'MO', 'MS', 'MT', 'NC', 'ND', 'NE', 'NH', 'NJ', 'NM', 'NV',\n       'NY', 'OH', 'OK', 'OR', 'PA', 'PR', 'RI', 'SC', 'SD', 'TN', 'TX', 'UT',\n       'VA', 'VT', 'WA', 'WI', 'WV', 'WY'],\n      dtype='object')\n"
     ]
    }
   ],
   "source": [
    "print(data_train_X.columns)"
   ]
  },
  {
   "cell_type": "code",
   "execution_count": 6,
   "metadata": {},
   "outputs": [
    {
     "data": {
      "text/plain": [
       "0.99394898599449033"
      ]
     },
     "execution_count": 6,
     "metadata": {},
     "output_type": "execute_result"
    }
   ],
   "source": [
    "data_train_X['hour_a'].corr(data_train_X['hour_b'])\n",
    "# data_train_X = data_train_X.drop('hour_b', axis=1)\n"
   ]
  },
  {
   "cell_type": "code",
   "execution_count": 7,
   "metadata": {
    "collapsed": false
   },
   "outputs": [
    {
     "data": {
      "image/png": "[encoded data removed]",
      "text/plain": [
       "<matplotlib.figure.Figure at 0x7f1d74989f28>"
      ]
     },
     "metadata": {},
     "output_type": "display_data"
    }
   ],
   "source": [
    "plt.scatter(data_train_X['hour_a'], data_train_X['hour_b'])\n",
    "plt.show()"
   ]
  }
 ],
 "metadata": {
  "kernelspec": {
   "display_name": "Python 2",
   "language": "python",
   "name": "python2"
  },
  "language_info": {
   "codemirror_mode": {
    "name": "ipython",
    "version": 2.0
   },
   "file_extension": ".py",
   "mimetype": "text/x-python",
   "name": "python",
   "nbconvert_exporter": "python",
   "pygments_lexer": "ipython2",
   "version": "2.7.6"
  }
 },
 "nbformat": 4,
 "nbformat_minor": 0
}