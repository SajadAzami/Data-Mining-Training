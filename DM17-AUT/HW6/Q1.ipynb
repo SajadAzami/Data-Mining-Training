{
 "cells": [
  {
   "cell_type": "code",
   "execution_count": 72,
   "metadata": {
    "collapsed": true
   },
   "outputs": [],
   "source": [
    "import scipy.io\n",
    "import numpy as np\n",
    "data = scipy.io.loadmat('cardio.mat')"
   ]
  },
  {
   "cell_type": "code",
   "execution_count": 74,
   "metadata": {},
   "outputs": [
    {
     "name": "stdout",
     "output_type": "stream",
     "text": [
      "(1831, 21)\n(1831, 1)\n1831\n"
     ]
    }
   ],
   "source": [
    "X_data = data['X']\n",
    "Y_data = data['y']\n",
    "print(X_data.shape)\n",
    "print(Y_data.shape)\n",
    "print(len(Y_data))"
   ]
  },
  {
   "cell_type": "code",
   "execution_count": 80,
   "metadata": {
    "collapsed": false
   },
   "outputs": [
    {
     "name": "stdout",
     "output_type": "stream",
     "text": [
      "0.986346258875\n"
     ]
    }
   ],
   "source": [
    "from sklearn.covariance import EmpiricalCovariance\n",
    "from sklearn.metrics import accuracy_score\n",
    "\n",
    "TH = 183\n",
    "ec = EmpiricalCovariance().fit(X_data)\n",
    "squared_mahalanobis_distance = ec.mahalanobis(X_data)\n",
    "indexes = np.argpartition(squared_mahalanobis_distance, TH)[-TH:]\n",
    "predictions = np.zeros(Y_data.shape)\n",
    "predictions[indexes] = 1\n",
    "print(accuracy_score(Y_data, predictions))"
   ]
  }
 ],
 "metadata": {
  "kernelspec": {
   "display_name": "Python 2",
   "language": "python",
   "name": "python2"
  },
  "language_info": {
   "codemirror_mode": {
    "name": "ipython",
    "version": 2.0
   },
   "file_extension": ".py",
   "mimetype": "text/x-python",
   "name": "python",
   "nbconvert_exporter": "python",
   "pygments_lexer": "ipython2",
   "version": "2.7.6"
  }
 },
 "nbformat": 4,
 "nbformat_minor": 0
}