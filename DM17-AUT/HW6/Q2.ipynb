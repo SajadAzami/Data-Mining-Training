{
 "cells": [
  {
   "cell_type": "code",
   "execution_count": 4,
   "metadata": {
    "collapsed": true
   },
   "outputs": [],
   "source": [
    "import pandas as pd\n",
    "import matplotlib.pyplot as plt\n",
    "\n",
    "data = pd.read_csv('HTRU_2.csv', header=None)\n",
    "data = data.sample(frac=0.5)\n",
    "data_Y = data[8]\n",
    "data_X = data.drop(8, axis=1)\n",
    "print(data_Y)"
   ]
  },
  {
   "cell_type": "code",
   "execution_count": 5,
   "metadata": {},
   "outputs": [
    {
     "name": "stdout",
     "output_type": "stream",
     "text": [
      "0.0286733672169\n"
     ]
    },
    {
     "name": "stdout",
     "output_type": "stream",
     "text": [
      "0.26361345548\n"
     ]
    }
   ],
   "source": [
    "from sklearn.metrics import v_measure_score, silhouette_score\n",
    "from sklearn.cluster import KMeans\n",
    "\n",
    "v_scores = []\n",
    "s_scores = []\n",
    "for k in range(2, 21):\n",
    "    pred = KMeans(n_clusters=k, random_state=28).fit_predict(data_X)\n",
    "    v_scores.append(v_measure_score(data_Y, pred))\n",
    "    s_scores.append(silhouette_score(data_X, pred))"
   ]
  },
  {
   "cell_type": "code",
   "execution_count": null,
   "metadata": {},
   "outputs": [],
   "source": [
    "from sklearn.cluster import AgglomerativeClustering\n"
   ]
  }
 ],
 "metadata": {
  "kernelspec": {
   "display_name": "Python 2",
   "language": "python",
   "name": "python2"
  },
  "language_info": {
   "codemirror_mode": {
    "name": "ipython",
    "version": 2.0
   },
   "file_extension": ".py",
   "mimetype": "text/x-python",
   "name": "python",
   "nbconvert_exporter": "python",
   "pygments_lexer": "ipython2",
   "version": "2.7.6"
  }
 },
 "nbformat": 4,
 "nbformat_minor": 0
}